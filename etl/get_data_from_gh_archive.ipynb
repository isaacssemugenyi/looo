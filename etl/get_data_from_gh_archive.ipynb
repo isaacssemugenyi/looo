{
 "cells": [
  {
   "cell_type": "code",
   "execution_count": 3,
   "metadata": {
    "collapsed": true,
    "pycharm": {
     "is_executing": false
    }
   },
   "outputs": [],
   "source": [
    "from etl.src.bigquery_operators import RunQueryAndSaveToNewTable\n",
    "import pandas as pd\n",
    "from datetime import datetime"
   ]
  },
  {
   "cell_type": "code",
   "execution_count": null,
   "outputs": [],
   "source": [
    "# Common inputs\n",
    "\n",
    "_project_id = \"codersrank\"\n",
    "_create_table_sql = \"./sql/create_new_table_for_extracted_data.sql\"\n",
    "_github_archive_dataset = \"month\"\n",
    "_dataset = \"project_looc_raw\"\n",
    "_dest_table = \"commit_data_with_emails_{}\"\n",
    "_location = \"US\"\n",
    "\n",
    "# We use the monthly tables from githubarchive, and we also create monthly result\n",
    "# tables to be able to use them in the future."
   ],
   "metadata": {
    "collapsed": false,
    "pycharm": {
     "name": "#%%\n"
    }
   }
  },
  {
   "cell_type": "code",
   "execution_count": 4,
   "outputs": [
    {
     "data": {
      "text/plain": "('201401', '201412')"
     },
     "metadata": {},
     "output_type": "execute_result",
     "execution_count": 4
    }
   ],
   "source": [
    "# Old Api\n",
    "\n",
    "date_range = pd.date_range(datetime(2014,1,1), datetime(2014,12,1), freq=\"MS\")\n",
    "suffixes = [d.strftime(\"%Y%m\") for d in date_range]\n",
    "suffixes[0], suffixes[-1]\n"
   ],
   "metadata": {
    "collapsed": false,
    "pycharm": {
     "name": "#%%\n",
     "is_executing": false
    }
   }
  },
  {
   "cell_type": "code",
   "execution_count": null,
   "outputs": [],
   "source": [
    "for suf in suffixes:\n",
    "    exporter = RunQueryAndSaveToNewTable(\n",
    "        project=_project_id,\n",
    "        create_table_sql=_create_table_sql,\n",
    "        sql=\"./sql/extract_data_from_gh_archive_old_api.sql\",\n",
    "        gh_archive_dataset=_github_archive_dataset,\n",
    "        gh_archive_table=suf,\n",
    "        dataset=_dataset,\n",
    "        dest_table=_dest_table.format(suf),\n",
    "        dataset_location=_location\n",
    "    )\n",
    "\n",
    "    exporter.execute()\n",
    "    "
   ],
   "metadata": {
    "collapsed": false,
    "pycharm": {
     "name": "#%%\n"
    }
   }
  },
  {
   "cell_type": "code",
   "execution_count": 5,
   "outputs": [
    {
     "data": {
      "text/plain": "('201111', '201202')"
     },
     "metadata": {},
     "output_type": "execute_result",
     "execution_count": 5
    }
   ],
   "source": [
    "# New Api\n",
    "\n",
    "date_range = pd.date_range(datetime(2011,11,1), datetime(2012,2,1), freq=\"MS\")\n",
    "suffixes = [d.strftime(\"%Y%m\") for d in date_range]\n",
    "suffixes[0], suffixes[-1]"
   ],
   "metadata": {
    "collapsed": false,
    "pycharm": {
     "name": "#%%\n",
     "is_executing": false
    }
   }
  },
  {
   "cell_type": "code",
   "execution_count": null,
   "outputs": [],
   "source": [
    "for suf in suffixes:\n",
    "    exporter = RunQueryAndSaveToNewTable(\n",
    "        project=_project_id,\n",
    "        create_table_sql=_create_table_sql,\n",
    "        sql=\"./sql/extract_data_from_gh_archive_new_api.sql\",\n",
    "        gh_archive_dataset=_github_archive_dataset,\n",
    "        gh_archive_table=suf,\n",
    "        dataset=_dataset,\n",
    "        dest_table=_dest_table.format(suf),\n",
    "        dataset_location=_location\n",
    "    )\n",
    "\n",
    "    exporter.execute()\n"
   ],
   "metadata": {
    "collapsed": false,
    "pycharm": {
     "name": "#%%\n"
    }
   }
  }
 ],
 "metadata": {
  "kernelspec": {
   "display_name": "Python 3",
   "language": "python",
   "name": "python3"
  },
  "language_info": {
   "codemirror_mode": {
    "name": "ipython",
    "version": 2
   },
   "file_extension": ".py",
   "mimetype": "text/x-python",
   "name": "python",
   "nbconvert_exporter": "python",
   "pygments_lexer": "ipython2",
   "version": "2.7.6"
  },
  "pycharm": {
   "stem_cell": {
    "cell_type": "raw",
    "source": [],
    "metadata": {
     "collapsed": false
    }
   }
  }
 },
 "nbformat": 4,
 "nbformat_minor": 0
}