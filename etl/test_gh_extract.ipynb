{
 "cells": [
  {
   "cell_type": "code",
   "execution_count": 1,
   "metadata": {
    "collapsed": true,
    "pycharm": {
     "is_executing": false
    }
   },
   "outputs": [],
   "source": [
    "from etl.src.bigquery_operators import RunQueryAndSaveToNewTable"
   ]
  },
  {
   "cell_type": "code",
   "execution_count": 3,
   "outputs": [],
   "source": [
    "exporter = RunQueryAndSaveToNewTable(\n",
    "    project=\"codersrank\",\n",
    "    create_table_sql=\"./sql/create_new_table_for_extracted_data.sql\",\n",
    "    sql=\"./sql/extract_data_from_gh_archive_old_api.sql\",\n",
    "    gh_archive_dataset=\"day\",\n",
    "    gh_archive_table=\"20130410\",\n",
    "    dataset=\"project_looc_raw\",\n",
    "    dest_table=\"raw_export_test\",\n",
    "    dataset_location=\"US\"\n",
    ")"
   ],
   "metadata": {
    "collapsed": false,
    "pycharm": {
     "name": "#%%\n",
     "is_executing": false
    }
   }
  },
  {
   "cell_type": "code",
   "execution_count": 4,
   "outputs": [
    {
     "name": "stderr",
     "text": [
      "2020-10-11 20:33:05,335 INFO COLLECTING DATA: WITH\n",
      "  export_commit_data AS(\n",
      "  SELECT\n",
      "    event_id,\n",
      "    event_type,\n",
      "    created_at,\n",
      "    repo_name,\n",
      "    repo_id,\n",
      "    repo_url,\n",
      "    actor_name,\n",
      "    push_id,\n",
      "    commit_data\n",
      "  FROM (\n",
      "    SELECT\n",
      "      *,\n",
      "      ARRAY(\n",
      "      SELECT\n",
      "        JSON_EXTRACT(x,\n",
      "          '$')\n",
      "      FROM\n",
      "        UNNEST(array_commits) x) AS commit_data\n",
      "    FROM (\n",
      "      SELECT\n",
      "        id AS event_id,\n",
      "        type AS event_type,\n",
      "        created_at,\n",
      "        repo.name AS repo_name,\n",
      "        repo.id AS repo_id,\n",
      "        repo.url AS repo_url,\n",
      "        actor.login AS actor_name,\n",
      "        JSON_EXTRACT_SCALAR(payload,\n",
      "          \"$.push_id\") AS push_id,\n",
      "        JSON_EXTRACT_ARRAY(payload,\n",
      "            '$.shas') AS array_commits\n",
      "      FROM\n",
      "        `githubarchive.day.20130410`\n",
      "      WHERE\n",
      "        type='PushEvent'\n",
      "        AND JSON_EXTRACT(payload,\n",
      "          \"$.shas\") IS NOT NULL )))\n",
      "SELECT\n",
      "  event_id,\n",
      "  event_type,\n",
      "  created_at,\n",
      "  repo_id,\n",
      "  repo_name,\n",
      "  repo_url,\n",
      "  REGEXP_REPLACE(repo_url, \"https://github.com/|https://api.github.dev/repos/\", \"\") AS repo_fullname,\n",
      "  push_id,\n",
      "  actor_name,\n",
      "  commit_data,\n",
      "  JSON_EXTRACT_SCALAR(commit_data,\n",
      "    \"$[0]\") AS commit_sha,\n",
      "  JSON_EXTRACT_SCALAR(commit_data,\n",
      "    \"$[1]\") AS email,\n",
      "  REGEXP_EXTRACT(JSON_EXTRACT_SCALAR(commit_data,\n",
      "      \"$[1]\"), \"@(.*)\") AS email_domain,\n",
      "  REGEXP_REPLACE(LOWER(TRIM(REGEXP_EXTRACT(JSON_EXTRACT_SCALAR(commit_data,\n",
      "      \"$[1]\"), \"@(.*)\"))), \"[^a-zA-Z0-9\\\\\\\\.]+\", \"\") as email_domain_cleaned\n",
      "FROM (\n",
      "  SELECT\n",
      "    event_id,\n",
      "    event_type,\n",
      "    created_at,\n",
      "    repo_name,\n",
      "    repo_id,\n",
      "    repo_url,\n",
      "    push_id,\n",
      "    actor_name,\n",
      "    commit_data,\n",
      "  FROM\n",
      "    export_commit_data\n",
      "  CROSS JOIN\n",
      "    UNNEST(export_commit_data.commit_data) AS commit_data )\n"
     ],
     "output_type": "stream"
    },
    {
     "data": {
      "text/plain": "'This query will process 221.54 MB and cost 0.0 USD.'"
     },
     "metadata": {},
     "output_type": "execute_result",
     "execution_count": 4
    }
   ],
   "source": [
    "exporter.execute_dry_run()"
   ],
   "metadata": {
    "collapsed": false,
    "pycharm": {
     "name": "#%%\n",
     "is_executing": false
    }
   }
  },
  {
   "cell_type": "code",
   "execution_count": 5,
   "outputs": [
    {
     "name": "stderr",
     "text": [
      "2020-10-11 20:33:28,051 INFO CREATE TABLE: CREATE TABLE IF NOT EXISTS raw_export_test (\n",
      "                event_id INT64,\n",
      "                event_type STRING,\n",
      "                created_at TIMESTAMP,\n",
      "                repo_id INT64,\n",
      "                repo_name STRING,\n",
      "                repo_url STRING,\n",
      "                repo_fullname STRING,\n",
      "                push_id INT64,\n",
      "                actor_name STRING,\n",
      "                commit_data STRING,\n",
      "                commit_sha STRING,\n",
      "                email STRING,\n",
      "                email_domain STRING,\n",
      "                email_domain_cleaned STRING)\n",
      "2020-10-11 20:33:30,723 INFO WRITE_TRUNCATE to codersrank.raw_export_test.raw_export_test\n"
     ],
     "output_type": "stream"
    },
    {
     "data": {
      "text/plain": "'New table created'"
     },
     "metadata": {},
     "output_type": "execute_result",
     "execution_count": 5
    }
   ],
   "source": [
    "exporter.execute()"
   ],
   "metadata": {
    "collapsed": false,
    "pycharm": {
     "name": "#%%\n",
     "is_executing": false
    }
   }
  },
  {
   "cell_type": "code",
   "execution_count": 6,
   "outputs": [
    {
     "data": {
      "text/plain": "32"
     },
     "metadata": {},
     "output_type": "execute_result",
     "execution_count": 6
    }
   ],
   "source": [
    "\n",
    "\n"
   ],
   "metadata": {
    "collapsed": false,
    "pycharm": {
     "name": "#%%\n",
     "is_executing": false
    }
   }
  }
 ],
 "metadata": {
  "kernelspec": {
   "display_name": "Python 3",
   "language": "python",
   "name": "python3"
  },
  "language_info": {
   "codemirror_mode": {
    "name": "ipython",
    "version": 2
   },
   "file_extension": ".py",
   "mimetype": "text/x-python",
   "name": "python",
   "nbconvert_exporter": "python",
   "pygments_lexer": "ipython2",
   "version": "2.7.6"
  },
  "pycharm": {
   "stem_cell": {
    "cell_type": "raw",
    "source": [],
    "metadata": {
     "collapsed": false
    }
   }
  }
 },
 "nbformat": 4,
 "nbformat_minor": 0
}